{
 "metadata": {
  "name": "",
  "signature": "sha256:57d50360ce9cc0af1e0931af5f06fcfcd40497bbbc57d95f5abf12e196f15e68"
 },
 "nbformat": 3,
 "nbformat_minor": 0,
 "worksheets": []
}